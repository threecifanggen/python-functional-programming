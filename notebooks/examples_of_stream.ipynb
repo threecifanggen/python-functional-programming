{
 "cells": [
  {
   "cell_type": "code",
   "execution_count": 3,
   "metadata": {},
   "outputs": [],
   "source": [
    "import sys\n",
    "sys.path.append(\"../\")\n",
    "\n",
    "from fppy.lazy_list import LazyList\n",
    "from faker import Faker"
   ]
  },
  {
   "cell_type": "code",
   "execution_count": 51,
   "metadata": {},
   "outputs": [
    {
     "data": {
      "text/plain": [
       "34"
      ]
     },
     "execution_count": 51,
     "metadata": {},
     "output_type": "execute_result"
    }
   ],
   "source": [
    "fk = Faker()\n",
    "fk.chrome()\n",
    "fk.date_time_between_dates().strftime(\"%Y-%m-%d %H:%M:%S\")\n",
    "fk.random_int(14, 50)"
   ]
  },
  {
   "cell_type": "code",
   "execution_count": 3,
   "metadata": {},
   "outputs": [],
   "source": [
    "\n",
    "def data_stream_gen():\n",
    "    \"\"\"数据流生成器\n",
    "    \"\"\"\n",
    "    fk = Faker()\n",
    "    while True:\n",
    "        yield {\n",
    "            \"create_time\": (\n",
    "                fk\n",
    "                .date_time_between_dates()\n",
    "                .strftime(\"%Y-%m-%d %H:%M:%S\")),\n",
    "            \"name\": fk.name(),\n",
    "            \"email\": fk.email(),\n",
    "            \"age\": fk.random_int(14, 50),\n",
    "            \"address\": fk.address(),\n",
    "            \"device\": {\n",
    "                \"browser\": fk.chrome()\n",
    "            }\n",
    "        }"
   ]
  },
  {
   "cell_type": "code",
   "execution_count": 58,
   "metadata": {},
   "outputs": [
    {
     "data": {
      "text/plain": [
       "[{'create_time': '2021-11-05 13:57:30',\n",
       "  'name': 'Kevin Parrish',\n",
       "  'email': 'mooremichael@example.net',\n",
       "  'age': 19,\n",
       "  'address': '4311 James Divide\\nPacehaven, PA 64853',\n",
       "  'device': {'browser': 'Mozilla/5.0 (Macintosh; U; PPC Mac OS X 10_10_8) AppleWebKit/535.2 (KHTML, like Gecko) Chrome/44.0.879.0 Safari/535.2'}},\n",
       " {'create_time': '2021-11-05 13:57:30',\n",
       "  'name': 'Donald Cochran',\n",
       "  'email': 'wendyjones@example.net',\n",
       "  'age': 15,\n",
       "  'address': '255 Ward Spring Suite 178\\nAdamland, MI 99867',\n",
       "  'device': {'browser': 'Mozilla/5.0 (iPad; CPU iPad OS 12_4_8 like Mac OS X) AppleWebKit/533.2 (KHTML, like Gecko) CriOS/60.0.839.0 Mobile/04P519 Safari/533.2'}},\n",
       " {'create_time': '2021-11-05 13:57:30',\n",
       "  'name': 'Gary Lowe',\n",
       "  'email': 'udean@example.net',\n",
       "  'age': 25,\n",
       "  'address': '60536 Kelly Green\\nNorth Brittanyland, DE 80335',\n",
       "  'device': {'browser': 'Mozilla/5.0 (Windows NT 6.0) AppleWebKit/536.1 (KHTML, like Gecko) Chrome/58.0.882.0 Safari/536.1'}}]"
      ]
     },
     "execution_count": 58,
     "metadata": {},
     "output_type": "execute_result"
    }
   ],
   "source": [
    "LazyList(data_stream_gen()).take(3).collect()"
   ]
  },
  {
   "cell_type": "code",
   "execution_count": 67,
   "metadata": {},
   "outputs": [],
   "source": [
    "from datetime import datetime as dt\n",
    "\n",
    "def drop_device(x):\n",
    "    return { k:v for k, v in x.items() if k != 'device'}\n",
    "\n",
    "def user_info(x):\n",
    "    user_info_name = {\"name\", \"email\", \"age\", \"adress\"}\n",
    "    return {**{\n",
    "        'user_info': {\n",
    "            k:v\n",
    "            for k, v in x.items() if k in user_info_name\n",
    "        },\n",
    "    }, **{k: v for k, v in x.items() if k not in user_info_name}}\n",
    "\n",
    "def change_create_time(x):\n",
    "    res = x.copy()\n",
    "    res['create_time'] = dt.strptime(\n",
    "        res['create_time'],\n",
    "        \"%Y-%m-%d %H:%M:%S\"\n",
    "    ).timestamp()\n",
    "    return res"
   ]
  },
  {
   "cell_type": "code",
   "execution_count": 68,
   "metadata": {},
   "outputs": [
    {
     "data": {
      "text/plain": [
       "[{'user_info': {'name': 'Norman Brown',\n",
       "   'email': 'xmcclain@example.net',\n",
       "   'age': 41},\n",
       "  'create_time': 1636093122.0,\n",
       "  'address': '39251 Kimberly Causeway Apt. 464\\nEast Heidiburgh, TX 27435'},\n",
       " {'user_info': {'name': 'Amanda Nguyen',\n",
       "   'email': 'russellpeter@example.com',\n",
       "   'age': 30},\n",
       "  'create_time': 1636093122.0,\n",
       "  'address': '53844 Tina Divide Suite 297\\nMaryburgh, IL 85323'},\n",
       " {'user_info': {'name': 'Sara Thompson',\n",
       "   'email': 'zknapp@example.com',\n",
       "   'age': 46},\n",
       "  'create_time': 1636093122.0,\n",
       "  'address': '666 Stephanie Trafficway Apt. 808\\nPort Ashleyburgh, WI 50626'}]"
      ]
     },
     "execution_count": 68,
     "metadata": {},
     "output_type": "execute_result"
    }
   ],
   "source": [
    "LazyList(data_stream_gen())\\\n",
    "    .map(drop_device)\\\n",
    "    .map(user_info)\\\n",
    "    .map(change_create_time)\\\n",
    "    .take(3)\\\n",
    "    .collect()"
   ]
  }
 ],
 "metadata": {
  "interpreter": {
   "hash": "b00d0533784e0bd7ec39dc1f12727fcf9021e9a985583666278f4fb55e7dfcf4"
  },
  "kernelspec": {
   "display_name": "Python 3.10.0 64-bit ('fppy2': conda)",
   "name": "python3"
  },
  "language_info": {
   "codemirror_mode": {
    "name": "ipython",
    "version": 3
   },
   "file_extension": ".py",
   "mimetype": "text/x-python",
   "name": "python",
   "nbconvert_exporter": "python",
   "pygments_lexer": "ipython3",
   "version": "3.10.0"
  },
  "orig_nbformat": 4
 },
 "nbformat": 4,
 "nbformat_minor": 2
}
